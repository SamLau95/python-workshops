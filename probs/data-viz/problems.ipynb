{
 "cells": [
  {
   "cell_type": "markdown",
   "metadata": {},
   "source": [
    "# Practice Problems for Data Viz Workshop\n",
    "\n",
    "This Jupyter notebook contains practice problems that use the `seaborn` and `matplotlib` libraries for Python.\n",
    "\n",
    "You may also find these resources helpful for future work:\n",
    "\n",
    "- [seaborn API][sns]\n",
    "- [matplotlib tutorial][plt]\n",
    "- [in-depth matplotlib][plt_adv]\n",
    "- [matplotlib chapter in the Python Data Science Handbook][plt_book]\n",
    "- [Data Viz chapter in Principles and Techniques of Data Science][ds_book]\n",
    "\n",
    "[sns]: https://seaborn.pydata.org/api.html\n",
    "[plt]: http://www.ds100.org/sp18/assets/lectures/lec07/07-intro-matplotlib.html\n",
    "[plt_adv]: http://www.ds100.org/sp18/assets/lectures/lec07/07-matplotlib_beyond_basics.html\n",
    "[plt_book]: https://jakevdp.github.io/PythonDataScienceHandbook/04.00-introduction-to-matplotlib.html\n",
    "[ds_book]: https://www.textbook.ds100.org/ch/06/viz_intro.html"
   ]
  },
  {
   "cell_type": "code",
   "execution_count": null,
   "metadata": {
    "tags": [
     "remove_input"
    ]
   },
   "outputs": [],
   "source": [
    "# First, run this cell to import libraries used for this workshop\n",
    "import numpy as np\n",
    "import matplotlib.pyplot as plt\n",
    "import pandas as pd\n",
    "import seaborn as sns\n",
    "%matplotlib inline\n",
    "\n",
    "sns.set()\n",
    "sns.set_context('talk')\n",
    "np.set_printoptions(threshold=20, precision=2, suppress=True)\n",
    "pd.set_option('display.max_rows', 7)\n",
    "pd.set_option('display.max_columns', 8)\n",
    "pd.set_option('precision', 2)\n",
    "# This option stops scientific notation for pandas\n",
    "# pd.set_option('display.float_format', '{:.2f}'.format)"
   ]
  },
  {
   "cell_type": "code",
   "execution_count": null,
   "metadata": {},
   "outputs": [],
   "source": [
    "import ipywidgets as widgets\n",
    "from ipywidgets import interact, interactive, fixed, interact_manual\n",
    "\n",
    "def df_interact(df, nrows=7, ncols=7):\n",
    "    '''\n",
    "    Outputs sliders that show rows and columns of df\n",
    "    '''\n",
    "    def peek(row=0, col=0):\n",
    "        return df.iloc[row:row + nrows, col:col + ncols]\n",
    "\n",
    "    row_arg = (0, len(df), nrows) if len(df) > nrows else fixed(0)\n",
    "    col_arg = ((0, len(df.columns), ncols)\n",
    "               if len(df.columns) > ncols else fixed(0))\n",
    "    \n",
    "    interact(peek, row=row_arg, col=col_arg)\n",
    "    print('({} rows, {} columns) total'.format(df.shape[0], df.shape[1]))\n",
    "\n",
    "def display_df(df, rows=pd.options.display.max_rows,\n",
    "               cols=pd.options.display.max_columns):\n",
    "    with pd.option_context('display.max_rows', rows,\n",
    "                           'display.max_columns', cols):\n",
    "        display(df)"
   ]
  },
  {
   "cell_type": "markdown",
   "metadata": {},
   "source": [
    "Next, run the cells below to load two DataFrames we'll be analyzing. This dataset contains information on bike rides in Washington D.C. from a bike-sharing company.\n",
    "\n",
    "The `bike` DataFrame contains hourly recordings of number of riders and weather attributes. Some riders are registered: they pay a membership fee to the company to use the bikes regularly. Other riders are casual and buy a bike trip on a one-off basis.\n",
    "\n",
    "Here is a full data dictionary for the `bike` DataFrame:\n",
    "\n",
    "Variable       | Description\n",
    "-------------- | ------------------------------------------------------------------\n",
    "instant | record index\n",
    "dteday | date\n",
    "season | 1. spring <br> 2. summer <br> 3. fall <br> 4. winter\n",
    "yr | year (0: 2011, 1:2012)\n",
    "mnth | month ( 1 to 12)\n",
    "hr | hour (0 to 23)\n",
    "holiday | whether day is holiday or not\n",
    "weekday | day of the week\n",
    "workingday | if day is neither weekend nor holiday\n",
    "weathersit | 1. clear or partly cloudy <br> 2. mist and clouds <br> 3. light snow or rain <br> 4. heavy rain or snow\n",
    "temp | normalized temperature in Celsius (divided by 41)\n",
    "atemp | normalized \"feels-like\" temperature in Celsius (divided by 50)\n",
    "hum | normalized percent humidity (divided by 100)\n",
    "windspeed| normalized wind speed (divided by 67)\n",
    "casual | count of casual users\n",
    "registered | count of registered users\n",
    "cnt | count of total rental bikes including casual and registered  "
   ]
  },
  {
   "cell_type": "code",
   "execution_count": null,
   "metadata": {},
   "outputs": [],
   "source": [
    "bike = pd.read_csv('data/bike.csv', parse_dates=['dteday'])\n",
    "df_interact(bike) # use sliders to examine data columns and values"
   ]
  },
  {
   "cell_type": "markdown",
   "metadata": {},
   "source": [
    "The `daily_counts` DataFrame contains the number of casual and registered users aggregated for each day in the data."
   ]
  },
  {
   "cell_type": "code",
   "execution_count": null,
   "metadata": {},
   "outputs": [],
   "source": [
    "daily_counts = pd.read_csv('data/daily_counts.csv')\n",
    "daily_counts"
   ]
  },
  {
   "cell_type": "markdown",
   "metadata": {
    "deletable": false,
    "editable": false,
    "nbgrader": {
     "cell_type": "markdown",
     "checksum": "fb64e4570710a45e95ee097c08091cac",
     "grade": false,
     "grade_id": "cell-c0043b105849335e",
     "locked": true,
     "schema_version": 3,
     "solution": false
    }
   },
   "source": [
    "## Question 1: Basic seaborn usage\n",
    "\n",
    "All exercises in Question 1 should be completed with a single call to a `seaborn` plotting function using the `bike` DataFrame (not `daily_counts`).\n",
    "\n",
    "For this question you will have to consult the [`seaborn` API](https://seaborn.pydata.org/api.html). You may also find the [`seaborn` Tutorial](https://seaborn.pydata.org/tutorial.html) helpful."
   ]
  },
  {
   "cell_type": "markdown",
   "metadata": {
    "deletable": false,
    "editable": false,
    "nbgrader": {
     "cell_type": "markdown",
     "checksum": "eea4d7566a21928cd51c7ae1886e96d2",
     "grade": false,
     "grade_id": "cell-1ca0dabf422ef8c2",
     "locked": true,
     "schema_version": 3,
     "solution": false
    }
   },
   "source": [
    "### Question 1a\n",
    "\n",
    "Plot the distribution of bike rider counts. Your plot should look like:\n",
    "\n",
    "<img src='images/all_cnt.png' width=\"400px\" />"
   ]
  },
  {
   "cell_type": "code",
   "execution_count": null,
   "metadata": {
    "deletable": false,
    "nbgrader": {
     "cell_type": "code",
     "checksum": "40d9ac8cc1f651e0ac0b0e3575480085",
     "grade": true,
     "grade_id": "cell-8280814e8a7a1f59",
     "locked": false,
     "points": 1,
     "schema_version": 3,
     "solution": true
    }
   },
   "outputs": [],
   "source": [
    "# YOUR CODE HERE\n",
    "raise NotImplementedError()"
   ]
  },
  {
   "cell_type": "markdown",
   "metadata": {
    "deletable": false,
    "editable": false,
    "nbgrader": {
     "cell_type": "markdown",
     "checksum": "4e294a3537486424a75bf18013257e62",
     "grade": false,
     "grade_id": "cell-1235219721257336",
     "locked": true,
     "schema_version": 3,
     "solution": false
    }
   },
   "source": [
    "### Question 1b\n",
    "\n",
    "Make a barplot where the x-axis are the four types of weather conditions (`weathersit`) and each bar height is the average number of riders for that weather condition. Include 95% confidence intervals for each bar. Your plot will look like:\n",
    "\n",
    "<img src='images/bar_weathersit_cnt.png' width=\"400px\" />"
   ]
  },
  {
   "cell_type": "code",
   "execution_count": null,
   "metadata": {
    "deletable": false,
    "nbgrader": {
     "cell_type": "code",
     "checksum": "1236faba828b01e04d79487b3b76bee9",
     "grade": true,
     "grade_id": "cell-9d348f7b9bca9abb",
     "locked": false,
     "points": 0,
     "schema_version": 3,
     "solution": true
    }
   },
   "outputs": [],
   "source": [
    "# YOUR CODE HERE\n",
    "raise NotImplementedError()"
   ]
  },
  {
   "cell_type": "markdown",
   "metadata": {
    "deletable": false,
    "editable": false,
    "nbgrader": {
     "cell_type": "markdown",
     "checksum": "0ed9325d5daeca03f76caccadcf636ea",
     "grade": false,
     "grade_id": "cell-744a7eec657a8088",
     "locked": true,
     "schema_version": 3,
     "solution": false
    }
   },
   "source": [
    "### Question 1c\n",
    "\n",
    "Recreate the bar plot from the previous question without the confidence intervals.\n",
    "\n",
    "<img src='images/bar_weathersit_cnt_no_ci.png' width=\"400px\" />"
   ]
  },
  {
   "cell_type": "code",
   "execution_count": null,
   "metadata": {
    "deletable": false,
    "nbgrader": {
     "cell_type": "code",
     "checksum": "318e99a7cbc51fb28f7e39274269ebb6",
     "grade": true,
     "grade_id": "cell-26507bc9cde1359c",
     "locked": false,
     "points": 0,
     "schema_version": 3,
     "solution": true
    }
   },
   "outputs": [],
   "source": [
    "# YOUR CODE HERE\n",
    "raise NotImplementedError()"
   ]
  },
  {
   "cell_type": "markdown",
   "metadata": {
    "deletable": false,
    "editable": false,
    "nbgrader": {
     "cell_type": "markdown",
     "checksum": "41334f441c2d2c15b1c93ba65285175e",
     "grade": false,
     "grade_id": "cell-744a7eec657a8089",
     "locked": true,
     "schema_version": 3,
     "solution": false
    }
   },
   "source": [
    "### Question 1d\n",
    "\n",
    "Make a point plot version of the bar plot for Question 1b. Like in 1b, place `weathersit` on the x-axis, `cnt` on the y-axis, and 95% confidence intervals for each point.\n",
    "\n",
    "<img src='images/point_weathersit_cnt.png' width=\"400px\" />"
   ]
  },
  {
   "cell_type": "code",
   "execution_count": null,
   "metadata": {
    "deletable": false,
    "nbgrader": {
     "cell_type": "code",
     "checksum": "ef6c444e73e2c8c7c411a0c9e620220f",
     "grade": true,
     "grade_id": "cell-26507bc9cde1359d",
     "locked": false,
     "points": 0,
     "schema_version": 3,
     "solution": true
    }
   },
   "outputs": [],
   "source": [
    "# YOUR CODE HERE\n",
    "raise NotImplementedError()"
   ]
  },
  {
   "cell_type": "markdown",
   "metadata": {
    "deletable": false,
    "editable": false,
    "nbgrader": {
     "cell_type": "markdown",
     "checksum": "919e1734128a591bc2366a3dc2e29542",
     "grade": false,
     "grade_id": "cell-744a7eec657a8080",
     "locked": true,
     "schema_version": 3,
     "solution": false
    }
   },
   "source": [
    "### Question 1e\n",
    "\n",
    "Make a box plot, plotting `cnt` on the y-axis and `weathersit` on the x-axis. This is the box plot version of Question 1b.\n",
    "\n",
    "Examine the bar, point, and box plots. How do these plots display the data differently?\n",
    "\n",
    "<img src='images/box_weathersit_cnt.png' width=\"400px\" />"
   ]
  },
  {
   "cell_type": "code",
   "execution_count": null,
   "metadata": {
    "deletable": false,
    "nbgrader": {
     "cell_type": "code",
     "checksum": "66b73ea3c69eb74da00defbf35a184ea",
     "grade": true,
     "grade_id": "cell-26507bc9cde1359e",
     "locked": false,
     "points": 0,
     "schema_version": 3,
     "solution": true
    }
   },
   "outputs": [],
   "source": [
    "# YOUR CODE HERE\n",
    "raise NotImplementedError()"
   ]
  },
  {
   "cell_type": "markdown",
   "metadata": {
    "deletable": false,
    "editable": false,
    "nbgrader": {
     "cell_type": "markdown",
     "checksum": "75a547c80023dc79ec93df48310f584a",
     "grade": false,
     "grade_id": "cell-744a7eec657a8090",
     "locked": true,
     "schema_version": 3,
     "solution": false
    }
   },
   "source": [
    "### Question 1f\n",
    "\n",
    "Make a scatter plot of `cnt` against `temp`.\n",
    "\n",
    "<img src='images/cnt_temp.png' width=\"400px\" />"
   ]
  },
  {
   "cell_type": "code",
   "execution_count": null,
   "metadata": {
    "deletable": false,
    "nbgrader": {
     "cell_type": "code",
     "checksum": "8a289a59a02011261c38c7079d3849a6",
     "grade": true,
     "grade_id": "cell-26507bc9cde1350e",
     "locked": false,
     "points": 0,
     "schema_version": 3,
     "solution": true
    }
   },
   "outputs": [],
   "source": [
    "# YOUR CODE HERE\n",
    "raise NotImplementedError()"
   ]
  },
  {
   "cell_type": "markdown",
   "metadata": {
    "deletable": false,
    "editable": false,
    "nbgrader": {
     "cell_type": "markdown",
     "checksum": "3884de43d121d703f4f2f2a5eecb01f2",
     "grade": false,
     "grade_id": "cell-8b2ded6221a0009f",
     "locked": true,
     "schema_version": 3,
     "solution": false
    }
   },
   "source": [
    "### Question 1g\n",
    "\n",
    "Notice how the points in the scatter plot overlap with each other. Recreate scatter plot using the argument `s=20` to adjust the size of the points. Notice that this argument is not documented in the `seaborn` documentation. This is because the `s` argument is for the underlying `matplotlib` [plotting function](https://matplotlib.org/api/_as_gen/matplotlib.axes.Axes.scatter.html).\n",
    "\n",
    "<img src='images/cnt_temp_20.png' width=\"400px\" />"
   ]
  },
  {
   "cell_type": "code",
   "execution_count": null,
   "metadata": {
    "deletable": false,
    "nbgrader": {
     "cell_type": "code",
     "checksum": "28bab2607a3afc8c6e001c4e861c5eb4",
     "grade": true,
     "grade_id": "cell-3471d738932faef3",
     "locked": false,
     "points": 0,
     "schema_version": 3,
     "solution": true
    }
   },
   "outputs": [],
   "source": [
    "# YOUR CODE HERE\n",
    "raise NotImplementedError()"
   ]
  },
  {
   "cell_type": "markdown",
   "metadata": {
    "deletable": false,
    "editable": false,
    "nbgrader": {
     "cell_type": "markdown",
     "checksum": "56da6b5a180f390eed64f96d6386fdbc",
     "grade": false,
     "grade_id": "cell-63c74f77d2c54c51",
     "locked": true,
     "schema_version": 3,
     "solution": false
    }
   },
   "source": [
    "### Question 1h\n",
    "\n",
    "Facet the plot in the previous question by season. Note that if you used `sns.scatterplot` in the previous question, you'll have to use `sns.relplot` for this question.\n",
    "\n",
    "<img src='images/season_cnt_temp_20.png' />"
   ]
  },
  {
   "cell_type": "code",
   "execution_count": null,
   "metadata": {
    "deletable": false,
    "nbgrader": {
     "cell_type": "code",
     "checksum": "fd063c4714b09f3ca41fd85715980989",
     "grade": true,
     "grade_id": "cell-9fe0ddca9af4f0bc",
     "locked": false,
     "points": 0,
     "schema_version": 3,
     "solution": true
    }
   },
   "outputs": [],
   "source": [
    "# YOUR CODE HERE\n",
    "raise NotImplementedError()"
   ]
  },
  {
   "cell_type": "markdown",
   "metadata": {
    "deletable": false,
    "editable": false,
    "nbgrader": {
     "cell_type": "markdown",
     "checksum": "eba7149933c74d492b636c30ff2e950f",
     "grade": false,
     "grade_id": "cell-4b6027c07890db55",
     "locked": true,
     "schema_version": 3,
     "solution": false
    }
   },
   "source": [
    "### Question 1h\n",
    "\n",
    "Facet the plot in the previous question by `workingday` in addition to the season.\n",
    "\n",
    "<img src='images/season_working_cnt_temp_20.png' />"
   ]
  },
  {
   "cell_type": "code",
   "execution_count": null,
   "metadata": {
    "deletable": false,
    "nbgrader": {
     "cell_type": "code",
     "checksum": "4c973a69124fb97da9df9e0c6feab0d3",
     "grade": true,
     "grade_id": "cell-fdb3f0c596d8aace",
     "locked": false,
     "points": 0,
     "schema_version": 3,
     "solution": true
    }
   },
   "outputs": [],
   "source": [
    "# YOUR CODE HERE\n",
    "raise NotImplementedError()"
   ]
  },
  {
   "cell_type": "markdown",
   "metadata": {
    "deletable": false,
    "editable": false,
    "nbgrader": {
     "cell_type": "markdown",
     "checksum": "dc520ca0f7efbfe2a1ed23be134c8b0d",
     "grade": false,
     "grade_id": "q2",
     "locked": true,
     "schema_version": 3,
     "solution": false
    }
   },
   "source": [
    "## Question 2: Using seaborn with matplotlib\n",
    "\n",
    "For Question 2, you will use `seaborn` and `matplotlib` together to make publication-ready plots."
   ]
  },
  {
   "cell_type": "markdown",
   "metadata": {
    "deletable": false,
    "editable": false,
    "nbgrader": {
     "cell_type": "markdown",
     "checksum": "d7480068f1551531b6d64d4cebb2033a",
     "grade": false,
     "grade_id": "q2a",
     "locked": true,
     "schema_version": 3,
     "solution": false
    }
   },
   "source": [
    "### Question 2a\n",
    "\n",
    "Recreate the following plot using the `daily_counts` DataFrame. It displays the distributions of both casual and registered users. Include a legend, x and y-axis labels, and title.\n",
    "\n",
    "<img src='images/casual_v_registered.png' width=\"600px\" />"
   ]
  },
  {
   "cell_type": "code",
   "execution_count": null,
   "metadata": {
    "ExecuteTime": {
     "end_time": "2018-09-12T05:50:18.436723Z",
     "start_time": "2018-09-12T05:50:18.223712Z"
    },
    "deletable": false,
    "nbgrader": {
     "cell_type": "code",
     "checksum": "7ee34ea471e5f684ee368c3853933ae2",
     "grade": true,
     "grade_id": "q2a-answer",
     "locked": false,
     "points": 2,
     "schema_version": 3,
     "solution": true
    },
    "tags": [
     "student"
    ]
   },
   "outputs": [],
   "source": [
    "# YOUR CODE HERE\n",
    "raise NotImplementedError()"
   ]
  },
  {
   "cell_type": "markdown",
   "metadata": {
    "deletable": false,
    "editable": false,
    "nbgrader": {
     "cell_type": "markdown",
     "checksum": "e7642dc67a261b140962b00d804f0d0d",
     "grade": false,
     "grade_id": "q2c",
     "locked": true,
     "schema_version": 3,
     "solution": false
    }
   },
   "source": [
    "### Question 2b\n",
    "\n",
    "The density plots do not show us how the counts for registered and casual riders vary together. Use [`sns.lmplot`](https://seaborn.pydata.org/generated/seaborn.lmplot.html) to make a scatter plot to investigate the relationship between casual and registered counts. This time, use the `bike` DataFrame to plot hourly counts instead of daily counts.\n",
    "\n",
    "The `lmplot` function will also try to draw a linear regression line. Color the points in the scatterplot according to whether or not the day is working day. There are many points in the scatter plot so make them small to help reduce overplotting. You can set the `height` parameter if you want to adjust the size of the `lmplot`. Make sure to include a title.\n",
    "\n",
    "<img src='images/casual_registered_working_nonworking.png' width=\"600px\" />\n",
    "\n",
    "**Hints:** \n",
    "* You may find this [tutorial on `lmplot`](https://seaborn.pydata.org/tutorial/regression.html) helpful.\n",
    "* You will need to set `x`, `y`, `hue`, and pass in a dictionary to `scatter_kws`."
   ]
  },
  {
   "cell_type": "code",
   "execution_count": null,
   "metadata": {
    "ExecuteTime": {
     "end_time": "2018-09-12T05:50:19.737393Z",
     "start_time": "2018-09-12T05:50:18.438733Z"
    },
    "deletable": false,
    "nbgrader": {
     "cell_type": "code",
     "checksum": "95eca598fc51bfd76cae056579cadd1e",
     "grade": true,
     "grade_id": "q2c-answer",
     "locked": false,
     "points": 2,
     "schema_version": 3,
     "solution": true
    },
    "tags": [
     "student",
     "written"
    ]
   },
   "outputs": [],
   "source": [
    "# Make the font size a bit bigger\n",
    "sns.set(font_scale=1.5)\n",
    "# YOUR CODE HERE\n",
    "raise NotImplementedError()"
   ]
  },
  {
   "cell_type": "markdown",
   "metadata": {
    "deletable": false,
    "editable": false,
    "nbgrader": {
     "cell_type": "markdown",
     "checksum": "2958ed3b6402828bacdbe4c9e4ea136e",
     "grade": false,
     "grade_id": "q3c",
     "locked": true,
     "schema_version": 3,
     "solution": false
    }
   },
   "source": [
    "## 4: Joint Plot\n",
    "\n",
    "As an alternative approach to visualizing the data, construct the following set of three plots where the main plot shows the contours of the kernel density estimate of daily counts for registered and casual riders plotted together, and the two \"margin\" plots (at the top and right of the figure) provide the univariate kernel density estimate of each of these variables. Note that this plot makes it harder see the linear relationships between casual and registered for the two different conditions (weekday vs. weekend).\n",
    "\n",
    "<img src=\"images/joint_distribution_of_daily_rider_types.png\" width=\"600px\" />\n",
    "\n",
    "**Hints**:\n",
    "* The [seaborn plotting tutorial](https://seaborn.pydata.org/tutorial/distributions.html) has examples that may be helpful.\n",
    "* Take a look at `sns.jointplot` and its `kind` parameter.\n",
    "* `set_axis_labels` can be used to rename axes on the contour plot.\n",
    "* `plt.suptitle` from lab 1 can be handy for setting the title where you want.\n",
    "* `plt.subplots_adjust(top=0.9)` can help if your title overlaps with your plot\n",
    "\n",
    "```\n",
    "BEGIN QUESTION\n",
    "name: q4\n",
    "points: 2\n",
    "manual: true\n",
    "```"
   ]
  },
  {
   "cell_type": "code",
   "execution_count": null,
   "metadata": {
    "ExecuteTime": {
     "end_time": "2018-09-12T05:50:23.660490Z",
     "start_time": "2018-09-12T05:50:21.838925Z"
    },
    "deletable": false,
    "nbgrader": {
     "cell_type": "code",
     "checksum": "aeeca4e12b0b436b9c0056944507136b",
     "grade": true,
     "grade_id": "q3c-answer",
     "locked": false,
     "points": 2,
     "schema_version": 3,
     "solution": true
    },
    "tags": [
     "student",
     "written"
    ]
   },
   "outputs": [],
   "source": [
    "# YOUR CODE HERE\n",
    "raise NotImplementedError()"
   ]
  },
  {
   "cell_type": "markdown",
   "metadata": {
    "deletable": false,
    "editable": false,
    "nbgrader": {
     "cell_type": "markdown",
     "checksum": "5294615c61de95fd8c5f537d475c8854",
     "grade": false,
     "grade_id": "q5a",
     "locked": true,
     "schema_version": 3,
     "solution": false
    }
   },
   "source": [
    "---\n",
    "## 5: Understanding Daily Patterns\n",
    "\n",
    "### Question 5\n",
    "\n",
    "#### Question 5a\n",
    "Let's examine the behavior of riders by plotting the average number of riders for each hour of the day over the **entire dataset**, stratified by rider type.  \n",
    "\n",
    "Your plot should look like the following:\n",
    "\n",
    "<img src=\"images/diurnal_bikes.png\" width=\"600px\"/>\n",
    "\n",
    "```\n",
    "BEGIN QUESTION\n",
    "name: q5a\n",
    "points: 2\n",
    "manual: true\n",
    "```"
   ]
  },
  {
   "cell_type": "code",
   "execution_count": null,
   "metadata": {
    "ExecuteTime": {
     "end_time": "2018-09-12T05:50:26.768572Z",
     "start_time": "2018-09-12T05:50:25.371208Z"
    },
    "deletable": false,
    "nbgrader": {
     "cell_type": "code",
     "checksum": "1e4c5f933e6074bd85bb221f71bf9e9b",
     "grade": true,
     "grade_id": "q5a-answer",
     "locked": false,
     "points": 2,
     "schema_version": 3,
     "solution": true
    },
    "tags": [
     "student",
     "written"
    ]
   },
   "outputs": [],
   "source": [
    "# YOUR CODE HERE\n",
    "raise NotImplementedError()"
   ]
  },
  {
   "cell_type": "markdown",
   "metadata": {
    "deletable": false,
    "editable": false,
    "nbgrader": {
     "cell_type": "markdown",
     "checksum": "2f5aeee6a1d6e8a08ce286e066c7e0f3",
     "grade": false,
     "grade_id": "q5b",
     "locked": true,
     "schema_version": 3,
     "solution": false
    }
   },
   "source": [
    "#### Question 5b\n",
    "\n",
    "What can you observe from the plot?  Hypothesize about the meaning of the peaks in the registered riders' distribution.\n",
    "```\n",
    "BEGIN QUESTION\n",
    "name: q5b\n",
    "points: 2\n",
    "manual: true\n",
    "```"
   ]
  },
  {
   "cell_type": "markdown",
   "metadata": {},
   "source": [
    "**SOLUTION:** In the above plot we see strong evidence of daily patterns in both datasets. The casual riders appear to ride throughout the day with peak hours in the mid-afternoon. Alternatively, while the registered riders also ride more during the day than at night there are very strong spikes during the morning and evening commute hours with a small bump during lunch."
   ]
  },
  {
   "cell_type": "markdown",
   "metadata": {
    "deletable": false,
    "editable": false,
    "nbgrader": {
     "cell_type": "markdown",
     "checksum": "972b0459d81972bd671065b964a87096",
     "grade": false,
     "grade_id": "q6a",
     "locked": true,
     "schema_version": 3,
     "solution": false
    }
   },
   "source": [
    "---\n",
    "## 6: Exploring Ride Sharing and Weather\n",
    "Now let's examine how the weather is affecting rider's behavior. First let's look at how the proportion of casual riders changes as weather changes.\n",
    "\n",
    "### Question 6\n",
    "\n",
    "#### Question 6a\n",
    "Create a new column `prop_casual` in the `bike` DataFrame representing the proportion of casual riders out of all riders.\n",
    "```\n",
    "BEGIN QUESTION\n",
    "name: q6a\n",
    "points: 1\n",
    "```"
   ]
  },
  {
   "cell_type": "code",
   "execution_count": null,
   "metadata": {
    "ExecuteTime": {
     "end_time": "2018-09-12T05:50:26.774129Z",
     "start_time": "2018-09-12T05:50:26.770558Z"
    },
    "deletable": false,
    "nbgrader": {
     "cell_type": "code",
     "checksum": "f92348f9c819fb329bf2127c8c344ee7",
     "grade": false,
     "grade_id": "q6a-answer",
     "locked": false,
     "schema_version": 3,
     "solution": true
    },
    "tags": [
     "student"
    ]
   },
   "outputs": [],
   "source": [
    "# YOUR CODE HERE\n",
    "raise NotImplementedError()"
   ]
  },
  {
   "cell_type": "code",
   "execution_count": null,
   "metadata": {},
   "outputs": [],
   "source": [
    "# TEST\n",
    "int(bike[\"prop_casual\"].sum())"
   ]
  },
  {
   "cell_type": "code",
   "execution_count": null,
   "metadata": {},
   "outputs": [],
   "source": [
    "# HIDDEN TEST\n",
    "np.round(bike[\"prop_casual\"].mean(), 2)"
   ]
  },
  {
   "cell_type": "markdown",
   "metadata": {
    "deletable": false,
    "editable": false,
    "nbgrader": {
     "cell_type": "markdown",
     "checksum": "34976d518b9c90b8da0749fe114b6b6c",
     "grade": false,
     "grade_id": "q6b",
     "locked": true,
     "schema_version": 3,
     "solution": false
    }
   },
   "source": [
    "#### Question 6b\n",
    "In order to examine the relationship between proportion of casual riders and temperature, we can create a scatterplot using `sns.scatterplot`. We can even use color/hue to encode the information about day of week. Run the cell below, and you'll see we end up with a big mess that is impossible to interpret."
   ]
  },
  {
   "cell_type": "code",
   "execution_count": null,
   "metadata": {
    "deletable": false,
    "editable": false,
    "nbgrader": {
     "cell_type": "code",
     "checksum": "dfc1a49ec25928bdb75b486c4b5ed588",
     "grade": false,
     "grade_id": "cell-728459bdb0b60604",
     "locked": true,
     "schema_version": 3,
     "solution": false
    }
   },
   "outputs": [],
   "source": [
    "plt.figure(figsize=(10, 7))\n",
    "sns.scatterplot(data=bike, x=\"temp\", y=\"prop_casual\", hue=\"weekday\");"
   ]
  },
  {
   "cell_type": "markdown",
   "metadata": {
    "deletable": false,
    "editable": false,
    "nbgrader": {
     "cell_type": "markdown",
     "checksum": "f8ce0067e103096987f09dc01729e931",
     "grade": false,
     "grade_id": "cell-1afe9e99d20a4374",
     "locked": true,
     "schema_version": 3,
     "solution": false
    }
   },
   "source": [
    "We could attempt linear regression using `sns.lmplot` as shown below, which hint at some relationships between temperature and proportional casual, but the plot is still fairly unconvincing. "
   ]
  },
  {
   "cell_type": "code",
   "execution_count": null,
   "metadata": {
    "ExecuteTime": {
     "end_time": "2018-09-12T05:50:28.645562Z",
     "start_time": "2018-09-12T05:50:26.781870Z"
    },
    "deletable": false,
    "editable": false,
    "nbgrader": {
     "cell_type": "code",
     "checksum": "c0031c00bbf30412d94d3bce20378abd",
     "grade": false,
     "grade_id": "q6b-lmplot",
     "locked": true,
     "schema_version": 3,
     "solution": false
    }
   },
   "outputs": [],
   "source": [
    "sns.lmplot(data=bike, x=\"temp\", y=\"prop_casual\", hue=\"weekday\", scatter_kws={\"s\": 20}, height=10)\n",
    "plt.title(\"Proportion of Casual Riders by Weekday\");"
   ]
  },
  {
   "cell_type": "markdown",
   "metadata": {
    "deletable": false,
    "editable": false,
    "nbgrader": {
     "cell_type": "markdown",
     "checksum": "93a668faf0b7f85b6cb53a59ee8b8703",
     "grade": false,
     "grade_id": "cell-980b34b254817347",
     "locked": true,
     "schema_version": 3,
     "solution": false
    }
   },
   "source": [
    "A better approach is to use local smoothing. The basic idea is that for each x value, we compute some sort of representative y value that captures the data close to that x value. One technique for local smoothing is \"Locally Weighted Scatterplot Smoothing\" or LOWESS. An example is below. The red curve shown is a smoothed version of the scatterplot."
   ]
  },
  {
   "cell_type": "code",
   "execution_count": null,
   "metadata": {
    "ExecuteTime": {
     "end_time": "2018-09-12T05:50:28.793327Z",
     "start_time": "2018-09-12T05:50:28.646991Z"
    },
    "deletable": false,
    "editable": false,
    "nbgrader": {
     "cell_type": "code",
     "checksum": "e0053493fc4269b17ab63dc2c3618477",
     "grade": false,
     "grade_id": "cell-fae506cbd94f98bc",
     "locked": true,
     "schema_version": 3,
     "solution": false
    }
   },
   "outputs": [],
   "source": [
    "from statsmodels.nonparametric.smoothers_lowess import lowess\n",
    "# Make noisy data\n",
    "xobs = np.sort(np.random.rand(100)*4.0 - 2)\n",
    "yobs = np.exp(xobs) + np.random.randn(100) / 2.0\n",
    "sns.scatterplot(xobs, yobs, label=\"Raw Data\")\n",
    "\n",
    "# Predict 'smoothed' valued for observations\n",
    "ysmooth = lowess(yobs, xobs, return_sorted=False)\n",
    "sns.lineplot(xobs, ysmooth, label=\"Smoothed Estimator\", color='red')\n",
    "plt.legend();"
   ]
  },
  {
   "cell_type": "markdown",
   "metadata": {
    "deletable": false,
    "editable": false,
    "nbgrader": {
     "cell_type": "markdown",
     "checksum": "b70bb33fd6dee696f743a4fc95c21836",
     "grade": false,
     "grade_id": "q6b-lowess-plot",
     "locked": true,
     "schema_version": 3,
     "solution": false
    }
   },
   "source": [
    "In our case with the bike ridership data, we want 7 curves, one for each day of the week. The x-axis will be the temperature and the y-axis will be a smoothed version of the proportion of casual riders.\n",
    "\n",
    "<img src=\"images/curveplot_temp_prop_casual.png\" width=\"600px\" />\n",
    "\n",
    "You should use [`statsmodels.nonparametric.smoothers_lowess.lowess`](http://www.statsmodels.org/dev/generated/statsmodels.nonparametric.smoothers_lowess.lowess.html) just like the example above. Unlike the example above, plot ONLY the lowess curve. Do not plot the actual data, which would result in overplotting. For this problem, the simplest way is to use a loop.\n",
    "\n",
    "**Hints:** \n",
    "* Start by just plotting only one day of the week to make sure you can do that first.\n",
    "\n",
    "* The `lowess` function expects y coordinate first, then x coordinate.\n",
    "\n",
    "* Look at the top of this homework notebook for a description of the temperature field to know how to convert to Fahrenheit. By default, the temperature field ranges from 0.0 to 1.0. In case you need it, $\\text{Fahrenheit} = \\text{Celsius} * \\frac{9}{5} + 32$.\n",
    "\n",
    "Note: If you prefer plotting temperatures in Celsius, that's fine as well!\n",
    "```\n",
    "BEGIN QUESTION\n",
    "name: q6b\n",
    "points: 4\n",
    "manual: true\n",
    "```"
   ]
  },
  {
   "cell_type": "code",
   "execution_count": null,
   "metadata": {
    "deletable": false,
    "nbgrader": {
     "cell_type": "code",
     "checksum": "654a9339bc58505d54808489b4f7ec32",
     "grade": true,
     "grade_id": "cell-831d12249d05ea2c",
     "locked": false,
     "points": 4,
     "schema_version": 3,
     "solution": true
    }
   },
   "outputs": [],
   "source": [
    "from statsmodels.nonparametric.smoothers_lowess import lowess\n",
    "\n",
    "plt.figure(figsize=(10,8))\n",
    "# YOUR CODE HERE\n",
    "raise NotImplementedError()"
   ]
  },
  {
   "cell_type": "code",
   "execution_count": null,
   "metadata": {},
   "outputs": [],
   "source": []
  }
 ],
 "metadata": {
  "kernelspec": {
   "display_name": "Python 3",
   "language": "python",
   "name": "python3"
  },
  "language_info": {
   "codemirror_mode": {
    "name": "ipython",
    "version": 3
   },
   "file_extension": ".py",
   "mimetype": "text/x-python",
   "name": "python",
   "nbconvert_exporter": "python",
   "pygments_lexer": "ipython3",
   "version": "3.7.3"
  }
 },
 "nbformat": 4,
 "nbformat_minor": 2
}
